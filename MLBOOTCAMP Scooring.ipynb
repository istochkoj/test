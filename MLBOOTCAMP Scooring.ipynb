{
 "cells": [
  {
   "cell_type": "code",
   "execution_count": 1,
   "metadata": {
    "collapsed": true
   },
   "outputs": [],
   "source": [
    "import numpy as np\n",
    "import pandas as pd\n",
    "import matplotlib.pyplot as plt\n",
    "plt.style.use('ggplot')\n",
    "%matplotlib inline"
   ]
  },
  {
   "cell_type": "code",
   "execution_count": 2,
   "metadata": {
    "collapsed": true
   },
   "outputs": [],
   "source": [
    "url = 'https://archive.ics.uci.edu/ml/machine-learning-databases/credit-screening/crx.data'\n",
    "data = pd.read_csv(url, header=None, na_values='?')"
   ]
  },
  {
   "cell_type": "code",
   "execution_count": 3,
   "metadata": {
    "collapsed": false
   },
   "outputs": [
    {
     "data": {
      "text/plain": [
       "(690, 16)"
      ]
     },
     "execution_count": 3,
     "metadata": {},
     "output_type": "execute_result"
    }
   ],
   "source": [
    "data.shape"
   ]
  },
  {
   "cell_type": "code",
   "execution_count": 4,
   "metadata": {
    "collapsed": false
   },
   "outputs": [
    {
     "data": {
      "text/html": [
       "<div>\n",
       "<table border=\"1\" class=\"dataframe\">\n",
       "  <thead>\n",
       "    <tr style=\"text-align: right;\">\n",
       "      <th></th>\n",
       "      <th>0</th>\n",
       "      <th>1</th>\n",
       "      <th>2</th>\n",
       "      <th>3</th>\n",
       "      <th>4</th>\n",
       "      <th>5</th>\n",
       "      <th>6</th>\n",
       "      <th>7</th>\n",
       "      <th>8</th>\n",
       "      <th>9</th>\n",
       "      <th>10</th>\n",
       "      <th>11</th>\n",
       "      <th>12</th>\n",
       "      <th>13</th>\n",
       "      <th>14</th>\n",
       "      <th>15</th>\n",
       "    </tr>\n",
       "  </thead>\n",
       "  <tbody>\n",
       "    <tr>\n",
       "      <th>0</th>\n",
       "      <td>b</td>\n",
       "      <td>30.83</td>\n",
       "      <td>0.000</td>\n",
       "      <td>u</td>\n",
       "      <td>g</td>\n",
       "      <td>w</td>\n",
       "      <td>v</td>\n",
       "      <td>1.25</td>\n",
       "      <td>t</td>\n",
       "      <td>t</td>\n",
       "      <td>1</td>\n",
       "      <td>f</td>\n",
       "      <td>g</td>\n",
       "      <td>202.0</td>\n",
       "      <td>0</td>\n",
       "      <td>+</td>\n",
       "    </tr>\n",
       "    <tr>\n",
       "      <th>1</th>\n",
       "      <td>a</td>\n",
       "      <td>58.67</td>\n",
       "      <td>4.460</td>\n",
       "      <td>u</td>\n",
       "      <td>g</td>\n",
       "      <td>q</td>\n",
       "      <td>h</td>\n",
       "      <td>3.04</td>\n",
       "      <td>t</td>\n",
       "      <td>t</td>\n",
       "      <td>6</td>\n",
       "      <td>f</td>\n",
       "      <td>g</td>\n",
       "      <td>43.0</td>\n",
       "      <td>560</td>\n",
       "      <td>+</td>\n",
       "    </tr>\n",
       "    <tr>\n",
       "      <th>2</th>\n",
       "      <td>a</td>\n",
       "      <td>24.50</td>\n",
       "      <td>0.500</td>\n",
       "      <td>u</td>\n",
       "      <td>g</td>\n",
       "      <td>q</td>\n",
       "      <td>h</td>\n",
       "      <td>1.50</td>\n",
       "      <td>t</td>\n",
       "      <td>f</td>\n",
       "      <td>0</td>\n",
       "      <td>f</td>\n",
       "      <td>g</td>\n",
       "      <td>280.0</td>\n",
       "      <td>824</td>\n",
       "      <td>+</td>\n",
       "    </tr>\n",
       "    <tr>\n",
       "      <th>3</th>\n",
       "      <td>b</td>\n",
       "      <td>27.83</td>\n",
       "      <td>1.540</td>\n",
       "      <td>u</td>\n",
       "      <td>g</td>\n",
       "      <td>w</td>\n",
       "      <td>v</td>\n",
       "      <td>3.75</td>\n",
       "      <td>t</td>\n",
       "      <td>t</td>\n",
       "      <td>5</td>\n",
       "      <td>t</td>\n",
       "      <td>g</td>\n",
       "      <td>100.0</td>\n",
       "      <td>3</td>\n",
       "      <td>+</td>\n",
       "    </tr>\n",
       "    <tr>\n",
       "      <th>4</th>\n",
       "      <td>b</td>\n",
       "      <td>20.17</td>\n",
       "      <td>5.625</td>\n",
       "      <td>u</td>\n",
       "      <td>g</td>\n",
       "      <td>w</td>\n",
       "      <td>v</td>\n",
       "      <td>1.71</td>\n",
       "      <td>t</td>\n",
       "      <td>f</td>\n",
       "      <td>0</td>\n",
       "      <td>f</td>\n",
       "      <td>s</td>\n",
       "      <td>120.0</td>\n",
       "      <td>0</td>\n",
       "      <td>+</td>\n",
       "    </tr>\n",
       "  </tbody>\n",
       "</table>\n",
       "</div>"
      ],
      "text/plain": [
       "  0      1      2  3  4  5  6     7  8  9   10 11 12     13   14 15\n",
       "0  b  30.83  0.000  u  g  w  v  1.25  t  t   1  f  g  202.0    0  +\n",
       "1  a  58.67  4.460  u  g  q  h  3.04  t  t   6  f  g   43.0  560  +\n",
       "2  a  24.50  0.500  u  g  q  h  1.50  t  f   0  f  g  280.0  824  +\n",
       "3  b  27.83  1.540  u  g  w  v  3.75  t  t   5  t  g  100.0    3  +\n",
       "4  b  20.17  5.625  u  g  w  v  1.71  t  f   0  f  s  120.0    0  +"
      ]
     },
     "execution_count": 4,
     "metadata": {},
     "output_type": "execute_result"
    }
   ],
   "source": [
    "data.head()"
   ]
  },
  {
   "cell_type": "markdown",
   "metadata": {},
   "source": [
    "Согласно описанию рассматриваемой задачи данные содержат информацию о клиентах, запрашивающих кредит. Для сохранения конфиденциальности данные обезличены, все значения категориальных признаков заменены символами, a числовые признаки приведены к другому масштабу. Последний столбец содержит символы + и -, соответствующие тому, вернул клиент кредит или нет."
   ]
  },
  {
   "cell_type": "code",
   "execution_count": 5,
   "metadata": {
    "collapsed": false
   },
   "outputs": [
    {
     "data": {
      "text/html": [
       "<div>\n",
       "<table border=\"1\" class=\"dataframe\">\n",
       "  <thead>\n",
       "    <tr style=\"text-align: right;\">\n",
       "      <th></th>\n",
       "      <th>A1</th>\n",
       "      <th>A2</th>\n",
       "      <th>A3</th>\n",
       "      <th>A4</th>\n",
       "      <th>A5</th>\n",
       "      <th>A6</th>\n",
       "      <th>A7</th>\n",
       "      <th>A8</th>\n",
       "      <th>A9</th>\n",
       "      <th>A10</th>\n",
       "      <th>A11</th>\n",
       "      <th>A12</th>\n",
       "      <th>A13</th>\n",
       "      <th>A14</th>\n",
       "      <th>A15</th>\n",
       "      <th>class</th>\n",
       "    </tr>\n",
       "  </thead>\n",
       "  <tbody>\n",
       "    <tr>\n",
       "      <th>0</th>\n",
       "      <td>b</td>\n",
       "      <td>30.83</td>\n",
       "      <td>0.000</td>\n",
       "      <td>u</td>\n",
       "      <td>g</td>\n",
       "      <td>w</td>\n",
       "      <td>v</td>\n",
       "      <td>1.25</td>\n",
       "      <td>t</td>\n",
       "      <td>t</td>\n",
       "      <td>1</td>\n",
       "      <td>f</td>\n",
       "      <td>g</td>\n",
       "      <td>202.0</td>\n",
       "      <td>0</td>\n",
       "      <td>+</td>\n",
       "    </tr>\n",
       "    <tr>\n",
       "      <th>1</th>\n",
       "      <td>a</td>\n",
       "      <td>58.67</td>\n",
       "      <td>4.460</td>\n",
       "      <td>u</td>\n",
       "      <td>g</td>\n",
       "      <td>q</td>\n",
       "      <td>h</td>\n",
       "      <td>3.04</td>\n",
       "      <td>t</td>\n",
       "      <td>t</td>\n",
       "      <td>6</td>\n",
       "      <td>f</td>\n",
       "      <td>g</td>\n",
       "      <td>43.0</td>\n",
       "      <td>560</td>\n",
       "      <td>+</td>\n",
       "    </tr>\n",
       "    <tr>\n",
       "      <th>2</th>\n",
       "      <td>a</td>\n",
       "      <td>24.50</td>\n",
       "      <td>0.500</td>\n",
       "      <td>u</td>\n",
       "      <td>g</td>\n",
       "      <td>q</td>\n",
       "      <td>h</td>\n",
       "      <td>1.50</td>\n",
       "      <td>t</td>\n",
       "      <td>f</td>\n",
       "      <td>0</td>\n",
       "      <td>f</td>\n",
       "      <td>g</td>\n",
       "      <td>280.0</td>\n",
       "      <td>824</td>\n",
       "      <td>+</td>\n",
       "    </tr>\n",
       "    <tr>\n",
       "      <th>3</th>\n",
       "      <td>b</td>\n",
       "      <td>27.83</td>\n",
       "      <td>1.540</td>\n",
       "      <td>u</td>\n",
       "      <td>g</td>\n",
       "      <td>w</td>\n",
       "      <td>v</td>\n",
       "      <td>3.75</td>\n",
       "      <td>t</td>\n",
       "      <td>t</td>\n",
       "      <td>5</td>\n",
       "      <td>t</td>\n",
       "      <td>g</td>\n",
       "      <td>100.0</td>\n",
       "      <td>3</td>\n",
       "      <td>+</td>\n",
       "    </tr>\n",
       "    <tr>\n",
       "      <th>4</th>\n",
       "      <td>b</td>\n",
       "      <td>20.17</td>\n",
       "      <td>5.625</td>\n",
       "      <td>u</td>\n",
       "      <td>g</td>\n",
       "      <td>w</td>\n",
       "      <td>v</td>\n",
       "      <td>1.71</td>\n",
       "      <td>t</td>\n",
       "      <td>f</td>\n",
       "      <td>0</td>\n",
       "      <td>f</td>\n",
       "      <td>s</td>\n",
       "      <td>120.0</td>\n",
       "      <td>0</td>\n",
       "      <td>+</td>\n",
       "    </tr>\n",
       "  </tbody>\n",
       "</table>\n",
       "</div>"
      ],
      "text/plain": [
       "  A1     A2     A3 A4 A5 A6 A7    A8 A9 A10  A11 A12 A13    A14  A15 class\n",
       "0  b  30.83  0.000  u  g  w  v  1.25  t   t    1   f   g  202.0    0     +\n",
       "1  a  58.67  4.460  u  g  q  h  3.04  t   t    6   f   g   43.0  560     +\n",
       "2  a  24.50  0.500  u  g  q  h  1.50  t   f    0   f   g  280.0  824     +\n",
       "3  b  27.83  1.540  u  g  w  v  3.75  t   t    5   t   g  100.0    3     +\n",
       "4  b  20.17  5.625  u  g  w  v  1.71  t   f    0   f   s  120.0    0     +"
      ]
     },
     "execution_count": 5,
     "metadata": {},
     "output_type": "execute_result"
    }
   ],
   "source": [
    "data.columns = ['A' + str(i) for i in range(1, 16)] + ['class']\n",
    "data.head()"
   ]
  },
  {
   "cell_type": "markdown",
   "metadata": {},
   "source": [
    "К элементам таблицы можно обращаться, например, так:\n",
    "    data['A5'][687]\n",
    "    data.at[687, 'A5']"
   ]
  },
  {
   "cell_type": "code",
   "execution_count": 6,
   "metadata": {
    "collapsed": false
   },
   "outputs": [
    {
     "data": {
      "text/html": [
       "<div>\n",
       "<table border=\"1\" class=\"dataframe\">\n",
       "  <thead>\n",
       "    <tr style=\"text-align: right;\">\n",
       "      <th></th>\n",
       "      <th>A2</th>\n",
       "      <th>A3</th>\n",
       "      <th>A8</th>\n",
       "      <th>A11</th>\n",
       "      <th>A14</th>\n",
       "      <th>A15</th>\n",
       "    </tr>\n",
       "  </thead>\n",
       "  <tbody>\n",
       "    <tr>\n",
       "      <th>count</th>\n",
       "      <td>678.000000</td>\n",
       "      <td>690.000000</td>\n",
       "      <td>690.000000</td>\n",
       "      <td>690.00000</td>\n",
       "      <td>677.000000</td>\n",
       "      <td>690.000000</td>\n",
       "    </tr>\n",
       "    <tr>\n",
       "      <th>mean</th>\n",
       "      <td>31.568171</td>\n",
       "      <td>4.758725</td>\n",
       "      <td>2.223406</td>\n",
       "      <td>2.40000</td>\n",
       "      <td>184.014771</td>\n",
       "      <td>1017.385507</td>\n",
       "    </tr>\n",
       "    <tr>\n",
       "      <th>std</th>\n",
       "      <td>11.957862</td>\n",
       "      <td>4.978163</td>\n",
       "      <td>3.346513</td>\n",
       "      <td>4.86294</td>\n",
       "      <td>173.806768</td>\n",
       "      <td>5210.102598</td>\n",
       "    </tr>\n",
       "    <tr>\n",
       "      <th>min</th>\n",
       "      <td>13.750000</td>\n",
       "      <td>0.000000</td>\n",
       "      <td>0.000000</td>\n",
       "      <td>0.00000</td>\n",
       "      <td>0.000000</td>\n",
       "      <td>0.000000</td>\n",
       "    </tr>\n",
       "    <tr>\n",
       "      <th>25%</th>\n",
       "      <td>22.602500</td>\n",
       "      <td>1.000000</td>\n",
       "      <td>0.165000</td>\n",
       "      <td>0.00000</td>\n",
       "      <td>75.000000</td>\n",
       "      <td>0.000000</td>\n",
       "    </tr>\n",
       "    <tr>\n",
       "      <th>50%</th>\n",
       "      <td>28.460000</td>\n",
       "      <td>2.750000</td>\n",
       "      <td>1.000000</td>\n",
       "      <td>0.00000</td>\n",
       "      <td>160.000000</td>\n",
       "      <td>5.000000</td>\n",
       "    </tr>\n",
       "    <tr>\n",
       "      <th>75%</th>\n",
       "      <td>38.230000</td>\n",
       "      <td>7.207500</td>\n",
       "      <td>2.625000</td>\n",
       "      <td>3.00000</td>\n",
       "      <td>276.000000</td>\n",
       "      <td>395.500000</td>\n",
       "    </tr>\n",
       "    <tr>\n",
       "      <th>max</th>\n",
       "      <td>80.250000</td>\n",
       "      <td>28.000000</td>\n",
       "      <td>28.500000</td>\n",
       "      <td>67.00000</td>\n",
       "      <td>2000.000000</td>\n",
       "      <td>100000.000000</td>\n",
       "    </tr>\n",
       "  </tbody>\n",
       "</table>\n",
       "</div>"
      ],
      "text/plain": [
       "               A2          A3          A8        A11          A14  \\\n",
       "count  678.000000  690.000000  690.000000  690.00000   677.000000   \n",
       "mean    31.568171    4.758725    2.223406    2.40000   184.014771   \n",
       "std     11.957862    4.978163    3.346513    4.86294   173.806768   \n",
       "min     13.750000    0.000000    0.000000    0.00000     0.000000   \n",
       "25%     22.602500    1.000000    0.165000    0.00000    75.000000   \n",
       "50%     28.460000    2.750000    1.000000    0.00000   160.000000   \n",
       "75%     38.230000    7.207500    2.625000    3.00000   276.000000   \n",
       "max     80.250000   28.000000   28.500000   67.00000  2000.000000   \n",
       "\n",
       "                 A15  \n",
       "count     690.000000  \n",
       "mean     1017.385507  \n",
       "std      5210.102598  \n",
       "min         0.000000  \n",
       "25%         0.000000  \n",
       "50%         5.000000  \n",
       "75%       395.500000  \n",
       "max    100000.000000  "
      ]
     },
     "execution_count": 6,
     "metadata": {},
     "output_type": "execute_result"
    }
   ],
   "source": [
    "data.describe()"
   ]
  },
  {
   "cell_type": "markdown",
   "metadata": {},
   "source": [
    "Выделим числовые и категориальные признаки:"
   ]
  },
  {
   "cell_type": "code",
   "execution_count": 7,
   "metadata": {
    "collapsed": false
   },
   "outputs": [
    {
     "name": "stdout",
     "output_type": "stream",
     "text": [
      "['A1', 'A4', 'A5', 'A6', 'A7', 'A9', 'A10', 'A12', 'A13', 'class']\n",
      "['A2', 'A3', 'A8', 'A11', 'A14', 'A15']\n"
     ]
    }
   ],
   "source": [
    "categorical_columns = [c for c in data.columns if data[c].dtype.name == 'object']\n",
    "numerical_columns   = [c for c in data.columns if data[c].dtype.name != 'object']\n",
    "print categorical_columns\n",
    "print numerical_columns"
   ]
  },
  {
   "cell_type": "code",
   "execution_count": 8,
   "metadata": {
    "collapsed": false
   },
   "outputs": [
    {
     "data": {
      "text/html": [
       "<div>\n",
       "<table border=\"1\" class=\"dataframe\">\n",
       "  <thead>\n",
       "    <tr style=\"text-align: right;\">\n",
       "      <th></th>\n",
       "      <th>A1</th>\n",
       "      <th>A4</th>\n",
       "      <th>A5</th>\n",
       "      <th>A6</th>\n",
       "      <th>A7</th>\n",
       "      <th>A9</th>\n",
       "      <th>A10</th>\n",
       "      <th>A12</th>\n",
       "      <th>A13</th>\n",
       "      <th>class</th>\n",
       "    </tr>\n",
       "  </thead>\n",
       "  <tbody>\n",
       "    <tr>\n",
       "      <th>count</th>\n",
       "      <td>678</td>\n",
       "      <td>684</td>\n",
       "      <td>684</td>\n",
       "      <td>681</td>\n",
       "      <td>681</td>\n",
       "      <td>690</td>\n",
       "      <td>690</td>\n",
       "      <td>690</td>\n",
       "      <td>690</td>\n",
       "      <td>690</td>\n",
       "    </tr>\n",
       "    <tr>\n",
       "      <th>unique</th>\n",
       "      <td>2</td>\n",
       "      <td>3</td>\n",
       "      <td>3</td>\n",
       "      <td>14</td>\n",
       "      <td>9</td>\n",
       "      <td>2</td>\n",
       "      <td>2</td>\n",
       "      <td>2</td>\n",
       "      <td>3</td>\n",
       "      <td>2</td>\n",
       "    </tr>\n",
       "    <tr>\n",
       "      <th>top</th>\n",
       "      <td>b</td>\n",
       "      <td>u</td>\n",
       "      <td>g</td>\n",
       "      <td>c</td>\n",
       "      <td>v</td>\n",
       "      <td>t</td>\n",
       "      <td>f</td>\n",
       "      <td>f</td>\n",
       "      <td>g</td>\n",
       "      <td>-</td>\n",
       "    </tr>\n",
       "    <tr>\n",
       "      <th>freq</th>\n",
       "      <td>468</td>\n",
       "      <td>519</td>\n",
       "      <td>519</td>\n",
       "      <td>137</td>\n",
       "      <td>399</td>\n",
       "      <td>361</td>\n",
       "      <td>395</td>\n",
       "      <td>374</td>\n",
       "      <td>625</td>\n",
       "      <td>383</td>\n",
       "    </tr>\n",
       "  </tbody>\n",
       "</table>\n",
       "</div>"
      ],
      "text/plain": [
       "         A1   A4   A5   A6   A7   A9  A10  A12  A13 class\n",
       "count   678  684  684  681  681  690  690  690  690   690\n",
       "unique    2    3    3   14    9    2    2    2    3     2\n",
       "top       b    u    g    c    v    t    f    f    g     -\n",
       "freq    468  519  519  137  399  361  395  374  625   383"
      ]
     },
     "execution_count": 8,
     "metadata": {},
     "output_type": "execute_result"
    }
   ],
   "source": [
    "data[categorical_columns].describe()"
   ]
  },
  {
   "cell_type": "markdown",
   "metadata": {},
   "source": [
    "В таблице для каждого категориального признака приведено общее число заполненных ячеек (count), количество значений, которые принимает данный признак (unique), самое популярное (часто встречающееся) значение этого признака (top) и количество объектов, в которых встречается самое частое значение данного признака (freq)."
   ]
  },
  {
   "cell_type": "markdown",
   "metadata": {},
   "source": [
    "Определить полный перечень значений категориальных признаков можно, например, так:"
   ]
  },
  {
   "cell_type": "code",
   "execution_count": 9,
   "metadata": {
    "collapsed": false
   },
   "outputs": [
    {
     "name": "stdout",
     "output_type": "stream",
     "text": [
      "['b' 'a' nan]\n",
      "['u' 'y' nan 'l']\n",
      "['g' 'p' nan 'gg']\n",
      "['w' 'q' 'm' 'r' 'cc' 'k' 'c' 'd' 'x' 'i' 'e' 'aa' 'ff' 'j' nan]\n",
      "['v' 'h' 'bb' 'ff' 'j' 'z' nan 'o' 'dd' 'n']\n",
      "['t' 'f']\n",
      "['t' 'f']\n",
      "['f' 't']\n",
      "['g' 's' 'p']\n",
      "['+' '-']\n"
     ]
    }
   ],
   "source": [
    "for c in categorical_columns:\n",
    "    print data[c].unique()"
   ]
  },
  {
   "cell_type": "markdown",
   "metadata": {},
   "source": [
    "Функция scatter_matrix из модуля pandas.tools.plotting позволяет построить для каждой количественной переменной гистограмму, а для каждой пары таких переменных – диаграмму рассеяния:"
   ]
  },
  {
   "cell_type": "code",
   "execution_count": 10,
   "metadata": {
    "collapsed": false
   },
   "outputs": [
    {
     "data": {
      "image/png": "[encoded data removed]",
      "text/plain": [
       "<matplotlib.figure.Figure at 0x9445278>"
      ]
     },
     "metadata": {},
     "output_type": "display_data"
    }
   ],
   "source": [
    "from pandas.tools.plotting import scatter_matrix\n",
    "scatter_matrix(data, alpha=0.05, figsize=(10, 10));"
   ]
  },
  {
   "cell_type": "code",
   "execution_count": 11,
   "metadata": {
    "collapsed": false
   },
   "outputs": [
    {
     "data": {
      "text/html": [
       "<div>\n",
       "<table border=\"1\" class=\"dataframe\">\n",
       "  <thead>\n",
       "    <tr style=\"text-align: right;\">\n",
       "      <th></th>\n",
       "      <th>A2</th>\n",
       "      <th>A3</th>\n",
       "      <th>A8</th>\n",
       "      <th>A11</th>\n",
       "      <th>A14</th>\n",
       "      <th>A15</th>\n",
       "    </tr>\n",
       "  </thead>\n",
       "  <tbody>\n",
       "    <tr>\n",
       "      <th>A2</th>\n",
       "      <td>1.000000</td>\n",
       "      <td>0.202317</td>\n",
       "      <td>0.395751</td>\n",
       "      <td>0.185912</td>\n",
       "      <td>-0.079812</td>\n",
       "      <td>0.018553</td>\n",
       "    </tr>\n",
       "    <tr>\n",
       "      <th>A3</th>\n",
       "      <td>0.202317</td>\n",
       "      <td>1.000000</td>\n",
       "      <td>0.298902</td>\n",
       "      <td>0.271207</td>\n",
       "      <td>-0.224242</td>\n",
       "      <td>0.123121</td>\n",
       "    </tr>\n",
       "    <tr>\n",
       "      <th>A8</th>\n",
       "      <td>0.395751</td>\n",
       "      <td>0.298902</td>\n",
       "      <td>1.000000</td>\n",
       "      <td>0.322330</td>\n",
       "      <td>-0.077163</td>\n",
       "      <td>0.051345</td>\n",
       "    </tr>\n",
       "    <tr>\n",
       "      <th>A11</th>\n",
       "      <td>0.185912</td>\n",
       "      <td>0.271207</td>\n",
       "      <td>0.322330</td>\n",
       "      <td>1.000000</td>\n",
       "      <td>-0.120096</td>\n",
       "      <td>0.063692</td>\n",
       "    </tr>\n",
       "    <tr>\n",
       "      <th>A14</th>\n",
       "      <td>-0.079812</td>\n",
       "      <td>-0.224242</td>\n",
       "      <td>-0.077163</td>\n",
       "      <td>-0.120096</td>\n",
       "      <td>1.000000</td>\n",
       "      <td>0.066853</td>\n",
       "    </tr>\n",
       "    <tr>\n",
       "      <th>A15</th>\n",
       "      <td>0.018553</td>\n",
       "      <td>0.123121</td>\n",
       "      <td>0.051345</td>\n",
       "      <td>0.063692</td>\n",
       "      <td>0.066853</td>\n",
       "      <td>1.000000</td>\n",
       "    </tr>\n",
       "  </tbody>\n",
       "</table>\n",
       "</div>"
      ],
      "text/plain": [
       "           A2        A3        A8       A11       A14       A15\n",
       "A2   1.000000  0.202317  0.395751  0.185912 -0.079812  0.018553\n",
       "A3   0.202317  1.000000  0.298902  0.271207 -0.224242  0.123121\n",
       "A8   0.395751  0.298902  1.000000  0.322330 -0.077163  0.051345\n",
       "A11  0.185912  0.271207  0.322330  1.000000 -0.120096  0.063692\n",
       "A14 -0.079812 -0.224242 -0.077163 -0.120096  1.000000  0.066853\n",
       "A15  0.018553  0.123121  0.051345  0.063692  0.066853  1.000000"
      ]
     },
     "execution_count": 11,
     "metadata": {},
     "output_type": "execute_result"
    }
   ],
   "source": [
    "data.corr()"
   ]
  },
  {
   "cell_type": "markdown",
   "metadata": {},
   "source": [
    "Можно выбрать любую пару признаков и нарисовать диаграмму рассеяния для этой пары признаков, изображая точки, соответствующие объектам из разных классов разным цветом: + – красный, - – синий. Например, для пары признаков A2, A11 получаем следующую диаграмму:"
   ]
  },
  {
   "cell_type": "code",
   "execution_count": 12,
   "metadata": {
    "collapsed": false
   },
   "outputs": [
    {
     "data": {
      "image/png": "[encoded data removed]",
      "text/plain": [
       "<matplotlib.figure.Figure at 0xc46b208>"
      ]
     },
     "metadata": {},
     "output_type": "display_data"
    }
   ],
   "source": [
    "col1 = 'A2'\n",
    "col2 = 'A11'\n",
    "\n",
    "plt.figure(figsize=(10, 6))\n",
    "\n",
    "plt.scatter(data[col1][data['class'] == '+'],\n",
    "            data[col2][data['class'] == '+'],\n",
    "            alpha=0.75,\n",
    "            color='red',\n",
    "            label='+')\n",
    "\n",
    "plt.scatter(data[col1][data['class'] == '-'],\n",
    "            data[col2][data['class'] == '-'],\n",
    "            alpha=0.75,\n",
    "            color='blue',\n",
    "            label='-')\n",
    "\n",
    "plt.xlabel(col1)\n",
    "plt.ylabel(col2)\n",
    "plt.legend(loc='best');"
   ]
  },
  {
   "cell_type": "markdown",
   "metadata": {},
   "source": [
    "Узнать количество заполненных (непропущенных) элементов можно с помощью метода count. Параметр axis = 0 указывает, что мы двигаемся по размерности 0 (сверху вниз), а не размерности 1 (слева направо), т.е. нас интересует количество заполненных элементов в каждом столбце, а не строке:"
   ]
  },
  {
   "cell_type": "code",
   "execution_count": 13,
   "metadata": {
    "collapsed": false
   },
   "outputs": [
    {
     "data": {
      "text/plain": [
       "A1       678\n",
       "A2       678\n",
       "A3       690\n",
       "A4       684\n",
       "A5       684\n",
       "A6       681\n",
       "A7       681\n",
       "A8       690\n",
       "A9       690\n",
       "A10      690\n",
       "A11      690\n",
       "A12      690\n",
       "A13      690\n",
       "A14      677\n",
       "A15      690\n",
       "class    690\n",
       "dtype: int64"
      ]
     },
     "execution_count": 13,
     "metadata": {},
     "output_type": "execute_result"
    }
   ],
   "source": [
    "data.count(axis=0)"
   ]
  },
  {
   "cell_type": "markdown",
   "metadata": {},
   "source": [
    "Если данные содержат пропущенные значения, то имеется две простые альтернативы:\n",
    "\n",
    "удалить столбцы с такими значениями (data = data.dropna(axis=1)),\n",
    "удалить строки с такими значениями (data = data.dropna(axis=0)).\n",
    "После этого, к сожалению, данных может стать совсем мало, поэтому рассмотрим простые альтернативные способы.\n",
    "\n",
    "Количественные признаки¶\n",
    "Заполнить пропущенные значения можно с помощью метода fillna. Заполним, например, медианными значениями.\n",
    "\n",
    "axis=0 по-прежнему указывает, что мы двигаемся сверху вниз:"
   ]
  },
  {
   "cell_type": "code",
   "execution_count": 14,
   "metadata": {
    "collapsed": true
   },
   "outputs": [],
   "source": [
    "data = data.fillna(data.median(axis=0), axis=0)"
   ]
  },
  {
   "cell_type": "code",
   "execution_count": 15,
   "metadata": {
    "collapsed": false
   },
   "outputs": [
    {
     "data": {
      "text/plain": [
       "A1       678\n",
       "A2       690\n",
       "A3       690\n",
       "A4       684\n",
       "A5       684\n",
       "A6       681\n",
       "A7       681\n",
       "A8       690\n",
       "A9       690\n",
       "A10      690\n",
       "A11      690\n",
       "A12      690\n",
       "A13      690\n",
       "A14      690\n",
       "A15      690\n",
       "class    690\n",
       "dtype: int64"
      ]
     },
     "execution_count": 15,
     "metadata": {},
     "output_type": "execute_result"
    }
   ],
   "source": [
    "data.count(axis=0)"
   ]
  },
  {
   "cell_type": "markdown",
   "metadata": {},
   "source": [
    "Категориальные признаки¶\n",
    "Теперь рассмотрим пропущенные значения в столбцах, соответствующих категориальным признакам. Простая стратегия – заполнение пропущенных значений самым популярным в столбце. Начнем с A1:"
   ]
  },
  {
   "cell_type": "code",
   "execution_count": 16,
   "metadata": {
    "collapsed": false
   },
   "outputs": [
    {
     "data": {
      "text/plain": [
       "count     678\n",
       "unique      2\n",
       "top         b\n",
       "freq      468\n",
       "Name: A1, dtype: object"
      ]
     },
     "execution_count": 16,
     "metadata": {},
     "output_type": "execute_result"
    }
   ],
   "source": [
    "data['A1'].describe()"
   ]
  },
  {
   "cell_type": "markdown",
   "metadata": {},
   "source": [
    "В столбце A1 имеются пропущенные значения. Наиболее частым (встречается 468 раз) является b. Заполняем все пропуски этим значением:\n"
   ]
  },
  {
   "cell_type": "code",
   "execution_count": 17,
   "metadata": {
    "collapsed": true
   },
   "outputs": [],
   "source": [
    "\n",
    "data['A1'] = data['A1'].fillna('b')"
   ]
  },
  {
   "cell_type": "code",
   "execution_count": 18,
   "metadata": {
    "collapsed": true
   },
   "outputs": [],
   "source": [
    "data_describe = data.describe(include=[object])\n",
    "for c in categorical_columns:\n",
    "    data[c] = data[c].fillna(data_describe[c]['top'])"
   ]
  },
  {
   "cell_type": "code",
   "execution_count": 19,
   "metadata": {
    "collapsed": false
   },
   "outputs": [
    {
     "data": {
      "text/html": [
       "<div>\n",
       "<table border=\"1\" class=\"dataframe\">\n",
       "  <thead>\n",
       "    <tr style=\"text-align: right;\">\n",
       "      <th></th>\n",
       "      <th>A1</th>\n",
       "      <th>A4</th>\n",
       "      <th>A5</th>\n",
       "      <th>A6</th>\n",
       "      <th>A7</th>\n",
       "      <th>A9</th>\n",
       "      <th>A10</th>\n",
       "      <th>A12</th>\n",
       "      <th>A13</th>\n",
       "      <th>class</th>\n",
       "    </tr>\n",
       "  </thead>\n",
       "  <tbody>\n",
       "    <tr>\n",
       "      <th>count</th>\n",
       "      <td>690</td>\n",
       "      <td>690</td>\n",
       "      <td>690</td>\n",
       "      <td>690</td>\n",
       "      <td>690</td>\n",
       "      <td>690</td>\n",
       "      <td>690</td>\n",
       "      <td>690</td>\n",
       "      <td>690</td>\n",
       "      <td>690</td>\n",
       "    </tr>\n",
       "    <tr>\n",
       "      <th>unique</th>\n",
       "      <td>2</td>\n",
       "      <td>3</td>\n",
       "      <td>3</td>\n",
       "      <td>14</td>\n",
       "      <td>9</td>\n",
       "      <td>2</td>\n",
       "      <td>2</td>\n",
       "      <td>2</td>\n",
       "      <td>3</td>\n",
       "      <td>2</td>\n",
       "    </tr>\n",
       "    <tr>\n",
       "      <th>top</th>\n",
       "      <td>b</td>\n",
       "      <td>u</td>\n",
       "      <td>g</td>\n",
       "      <td>c</td>\n",
       "      <td>v</td>\n",
       "      <td>t</td>\n",
       "      <td>f</td>\n",
       "      <td>f</td>\n",
       "      <td>g</td>\n",
       "      <td>-</td>\n",
       "    </tr>\n",
       "    <tr>\n",
       "      <th>freq</th>\n",
       "      <td>480</td>\n",
       "      <td>525</td>\n",
       "      <td>525</td>\n",
       "      <td>146</td>\n",
       "      <td>408</td>\n",
       "      <td>361</td>\n",
       "      <td>395</td>\n",
       "      <td>374</td>\n",
       "      <td>625</td>\n",
       "      <td>383</td>\n",
       "    </tr>\n",
       "  </tbody>\n",
       "</table>\n",
       "</div>"
      ],
      "text/plain": [
       "         A1   A4   A5   A6   A7   A9  A10  A12  A13 class\n",
       "count   690  690  690  690  690  690  690  690  690   690\n",
       "unique    2    3    3   14    9    2    2    2    3     2\n",
       "top       b    u    g    c    v    t    f    f    g     -\n",
       "freq    480  525  525  146  408  361  395  374  625   383"
      ]
     },
     "execution_count": 19,
     "metadata": {},
     "output_type": "execute_result"
    }
   ],
   "source": [
    "data.describe(include=[object])"
   ]
  },
  {
   "cell_type": "markdown",
   "metadata": {},
   "source": [
    "Векторизация¶\n",
    "\n",
    "Как уже отмечалось, библиотека scikit-learn не умеет напрямую обрабатывать категориальные признаки. Поэтому прежде чем подавать данные на вход алгоритмов машинного обучения преобразуем категориальные признаки в количественные.\n",
    "\n",
    "Категориальные признаки, принимающие два значения (т.е. бинарные признаки) и принимающие большее количество значений будем обрабатывать по-разному.\n",
    "\n",
    "Вначале выделим бинарные и небинарные признаки:"
   ]
  },
  {
   "cell_type": "code",
   "execution_count": 20,
   "metadata": {
    "collapsed": false
   },
   "outputs": [
    {
     "name": "stdout",
     "output_type": "stream",
     "text": [
      "['A1', 'A9', 'A10', 'A12', 'class'] ['A4', 'A5', 'A6', 'A7', 'A13']\n"
     ]
    }
   ],
   "source": [
    "binary_columns    = [c for c in categorical_columns if data_describe[c]['unique'] == 2]\n",
    "nonbinary_columns = [c for c in categorical_columns if data_describe[c]['unique'] > 2]\n",
    "print binary_columns, nonbinary_columns"
   ]
  },
  {
   "cell_type": "markdown",
   "metadata": {},
   "source": [
    "Значения бинарных признаков просто заменим на 0 и 1. Начнем с признака A1:"
   ]
  },
  {
   "cell_type": "code",
   "execution_count": 21,
   "metadata": {
    "collapsed": false
   },
   "outputs": [
    {
     "data": {
      "text/plain": [
       "count     690\n",
       "unique      2\n",
       "top         0\n",
       "freq      480\n",
       "Name: A1, dtype: int64"
      ]
     },
     "execution_count": 21,
     "metadata": {},
     "output_type": "execute_result"
    }
   ],
   "source": [
    "data.at[data['A1'] == 'b', 'A1'] = 0\n",
    "data.at[data['A1'] == 'a', 'A1'] = 1\n",
    "data['A1'].describe()"
   ]
  },
  {
   "cell_type": "code",
   "execution_count": 22,
   "metadata": {
    "collapsed": false
   },
   "outputs": [
    {
     "data": {
      "text/html": [
       "<div>\n",
       "<table border=\"1\" class=\"dataframe\">\n",
       "  <thead>\n",
       "    <tr style=\"text-align: right;\">\n",
       "      <th></th>\n",
       "      <th>A1</th>\n",
       "      <th>A4</th>\n",
       "      <th>A5</th>\n",
       "      <th>A6</th>\n",
       "      <th>A7</th>\n",
       "      <th>A9</th>\n",
       "      <th>A10</th>\n",
       "      <th>A12</th>\n",
       "      <th>A13</th>\n",
       "      <th>class</th>\n",
       "    </tr>\n",
       "  </thead>\n",
       "  <tbody>\n",
       "    <tr>\n",
       "      <th>count</th>\n",
       "      <td>690</td>\n",
       "      <td>690</td>\n",
       "      <td>690</td>\n",
       "      <td>690</td>\n",
       "      <td>690</td>\n",
       "      <td>690</td>\n",
       "      <td>690</td>\n",
       "      <td>690</td>\n",
       "      <td>690</td>\n",
       "      <td>690</td>\n",
       "    </tr>\n",
       "    <tr>\n",
       "      <th>unique</th>\n",
       "      <td>2</td>\n",
       "      <td>3</td>\n",
       "      <td>3</td>\n",
       "      <td>14</td>\n",
       "      <td>9</td>\n",
       "      <td>2</td>\n",
       "      <td>2</td>\n",
       "      <td>2</td>\n",
       "      <td>3</td>\n",
       "      <td>2</td>\n",
       "    </tr>\n",
       "    <tr>\n",
       "      <th>top</th>\n",
       "      <td>0</td>\n",
       "      <td>u</td>\n",
       "      <td>g</td>\n",
       "      <td>c</td>\n",
       "      <td>v</td>\n",
       "      <td>t</td>\n",
       "      <td>f</td>\n",
       "      <td>f</td>\n",
       "      <td>g</td>\n",
       "      <td>-</td>\n",
       "    </tr>\n",
       "    <tr>\n",
       "      <th>freq</th>\n",
       "      <td>480</td>\n",
       "      <td>525</td>\n",
       "      <td>525</td>\n",
       "      <td>146</td>\n",
       "      <td>408</td>\n",
       "      <td>361</td>\n",
       "      <td>395</td>\n",
       "      <td>374</td>\n",
       "      <td>625</td>\n",
       "      <td>383</td>\n",
       "    </tr>\n",
       "  </tbody>\n",
       "</table>\n",
       "</div>"
      ],
      "text/plain": [
       "         A1   A4   A5   A6   A7   A9  A10  A12  A13 class\n",
       "count   690  690  690  690  690  690  690  690  690   690\n",
       "unique    2    3    3   14    9    2    2    2    3     2\n",
       "top       0    u    g    c    v    t    f    f    g     -\n",
       "freq    480  525  525  146  408  361  395  374  625   383"
      ]
     },
     "execution_count": 22,
     "metadata": {},
     "output_type": "execute_result"
    }
   ],
   "source": [
    "data_describe = data.describe(include=[object])\n",
    "data_describe"
   ]
  },
  {
   "cell_type": "code",
   "execution_count": 23,
   "metadata": {
    "collapsed": true
   },
   "outputs": [],
   "source": [
    "\n",
    "for c in binary_columns[1:]:\n",
    "    top = data_describe[c]['top']\n",
    "    top_items = data[c] == top\n",
    "    data.loc[top_items, c] = 0\n",
    "    data.loc[np.logical_not(top_items), c] = 1"
   ]
  },
  {
   "cell_type": "code",
   "execution_count": 25,
   "metadata": {
    "collapsed": false
   },
   "outputs": [
    {
     "data": {
      "text/html": [
       "<div>\n",
       "<table border=\"1\" class=\"dataframe\">\n",
       "  <thead>\n",
       "    <tr style=\"text-align: right;\">\n",
       "      <th></th>\n",
       "      <th>A1</th>\n",
       "      <th>A9</th>\n",
       "      <th>A10</th>\n",
       "      <th>A12</th>\n",
       "      <th>class</th>\n",
       "    </tr>\n",
       "  </thead>\n",
       "  <tbody>\n",
       "    <tr>\n",
       "      <th>count</th>\n",
       "      <td>690</td>\n",
       "      <td>690</td>\n",
       "      <td>690</td>\n",
       "      <td>690</td>\n",
       "      <td>690</td>\n",
       "    </tr>\n",
       "    <tr>\n",
       "      <th>unique</th>\n",
       "      <td>2</td>\n",
       "      <td>2</td>\n",
       "      <td>2</td>\n",
       "      <td>2</td>\n",
       "      <td>2</td>\n",
       "    </tr>\n",
       "    <tr>\n",
       "      <th>top</th>\n",
       "      <td>0</td>\n",
       "      <td>0</td>\n",
       "      <td>0</td>\n",
       "      <td>0</td>\n",
       "      <td>0</td>\n",
       "    </tr>\n",
       "    <tr>\n",
       "      <th>freq</th>\n",
       "      <td>480</td>\n",
       "      <td>361</td>\n",
       "      <td>395</td>\n",
       "      <td>374</td>\n",
       "      <td>383</td>\n",
       "    </tr>\n",
       "  </tbody>\n",
       "</table>\n",
       "</div>"
      ],
      "text/plain": [
       "         A1   A9  A10  A12  class\n",
       "count   690  690  690  690    690\n",
       "unique    2    2    2    2      2\n",
       "top       0    0    0    0      0\n",
       "freq    480  361  395  374    383"
      ]
     },
     "execution_count": 25,
     "metadata": {},
     "output_type": "execute_result"
    }
   ],
   "source": [
    "data[binary_columns].describe()"
   ]
  },
  {
   "cell_type": "markdown",
   "metadata": {},
   "source": [
    "Небинарные признаки¶\n",
    "К небинарными признакам применим метод векторизации, который заключается в следующем.\n",
    "\n",
    "Признак j, принимающий s значений, заменим на s признаков, принимащих значения 0 или 1, в зависимости от того, чему равно значение исходного признака j.\n",
    "\n",
    "Например, в нашей задаче признак A4 принимает 3 различных значения:"
   ]
  },
  {
   "cell_type": "code",
   "execution_count": 26,
   "metadata": {
    "collapsed": false
   },
   "outputs": [
    {
     "data": {
      "text/plain": [
       "array(['u', 'y', 'l'], dtype=object)"
      ]
     },
     "execution_count": 26,
     "metadata": {},
     "output_type": "execute_result"
    }
   ],
   "source": [
    "data['A4'].unique()"
   ]
  },
  {
   "cell_type": "markdown",
   "metadata": {},
   "source": [
    "меним признак A4 тремя признаками: A4_u, A4_y, A4_l.\n",
    "\n",
    "Если признак A4 принимает значение u, то признак A4_u равен 1, A4_y равен 0, A4_l равен 0.\n",
    "Если признак A4 принимает значение y, то признак A4_y равен 0, A4_y равен 1, A4_l равен 0.\n",
    "Если признак A4 принимает значение l, то признак A4_l равен 0, A4_y равен 0, A4_l равен 1.\n",
    "Такую векторизацию осуществляет в pandas метод get_dummies:"
   ]
  },
  {
   "cell_type": "code",
   "execution_count": 27,
   "metadata": {
    "collapsed": false
   },
   "outputs": [
    {
     "name": "stdout",
     "output_type": "stream",
     "text": [
      "Index([u'A4_l', u'A4_u', u'A4_y', u'A5_g', u'A5_gg', u'A5_p', u'A6_aa',\n",
      "       u'A6_c', u'A6_cc', u'A6_d', u'A6_e', u'A6_ff', u'A6_i', u'A6_j',\n",
      "       u'A6_k', u'A6_m', u'A6_q', u'A6_r', u'A6_w', u'A6_x', u'A7_bb',\n",
      "       u'A7_dd', u'A7_ff', u'A7_h', u'A7_j', u'A7_n', u'A7_o', u'A7_v',\n",
      "       u'A7_z', u'A13_g', u'A13_p', u'A13_s'],\n",
      "      dtype='object')\n"
     ]
    }
   ],
   "source": [
    "data_nonbinary = pd.get_dummies(data[nonbinary_columns])\n",
    "print data_nonbinary.columns"
   ]
  },
  {
   "cell_type": "markdown",
   "metadata": {},
   "source": [
    "Нормализация количественных признаков¶\n",
    "\n",
    "Многие алгоритмы машинного обучения чувствительны к масштабированию данных. К таким алгоритмам, например, относится метод ближайших соседей, машина опорных векторов и др.\n",
    "\n",
    "В этом случае количественные признаки полезно нормализовать. Это можно делать разными способами. Например, каждый количественный признак приведем к нулевому "
   ]
  },
  {
   "cell_type": "code",
   "execution_count": 28,
   "metadata": {
    "collapsed": false
   },
   "outputs": [
    {
     "data": {
      "text/html": [
       "<div>\n",
       "<table border=\"1\" class=\"dataframe\">\n",
       "  <thead>\n",
       "    <tr style=\"text-align: right;\">\n",
       "      <th></th>\n",
       "      <th>A2</th>\n",
       "      <th>A3</th>\n",
       "      <th>A8</th>\n",
       "      <th>A11</th>\n",
       "      <th>A14</th>\n",
       "      <th>A15</th>\n",
       "    </tr>\n",
       "  </thead>\n",
       "  <tbody>\n",
       "    <tr>\n",
       "      <th>count</th>\n",
       "      <td>6.900000e+02</td>\n",
       "      <td>6.900000e+02</td>\n",
       "      <td>6.900000e+02</td>\n",
       "      <td>6.900000e+02</td>\n",
       "      <td>6.900000e+02</td>\n",
       "      <td>6.900000e+02</td>\n",
       "    </tr>\n",
       "    <tr>\n",
       "      <th>mean</th>\n",
       "      <td>-2.581751e-15</td>\n",
       "      <td>2.085288e-16</td>\n",
       "      <td>1.879334e-16</td>\n",
       "      <td>2.067589e-16</td>\n",
       "      <td>4.827057e-17</td>\n",
       "      <td>-1.448117e-18</td>\n",
       "    </tr>\n",
       "    <tr>\n",
       "      <th>std</th>\n",
       "      <td>1.000000e+00</td>\n",
       "      <td>1.000000e+00</td>\n",
       "      <td>1.000000e+00</td>\n",
       "      <td>1.000000e+00</td>\n",
       "      <td>1.000000e+00</td>\n",
       "      <td>1.000000e+00</td>\n",
       "    </tr>\n",
       "    <tr>\n",
       "      <th>min</th>\n",
       "      <td>-1.497787e+00</td>\n",
       "      <td>-9.559198e-01</td>\n",
       "      <td>-6.643947e-01</td>\n",
       "      <td>-4.935286e-01</td>\n",
       "      <td>-1.066043e+00</td>\n",
       "      <td>-1.952717e-01</td>\n",
       "    </tr>\n",
       "    <tr>\n",
       "      <th>25%</th>\n",
       "      <td>-7.456942e-01</td>\n",
       "      <td>-7.550425e-01</td>\n",
       "      <td>-6.150897e-01</td>\n",
       "      <td>-4.935286e-01</td>\n",
       "      <td>-6.014412e-01</td>\n",
       "      <td>-1.952717e-01</td>\n",
       "    </tr>\n",
       "    <tr>\n",
       "      <th>50%</th>\n",
       "      <td>-2.575087e-01</td>\n",
       "      <td>-4.035072e-01</td>\n",
       "      <td>-3.655762e-01</td>\n",
       "      <td>-4.935286e-01</td>\n",
       "      <td>-1.368388e-01</td>\n",
       "      <td>-1.943120e-01</td>\n",
       "    </tr>\n",
       "    <tr>\n",
       "      <th>75%</th>\n",
       "      <td>5.221970e-01</td>\n",
       "      <td>4.919034e-01</td>\n",
       "      <td>1.200038e-01</td>\n",
       "      <td>1.233822e-01</td>\n",
       "      <td>5.136044e-01</td>\n",
       "      <td>-1.193615e-01</td>\n",
       "    </tr>\n",
       "    <tr>\n",
       "      <th>max</th>\n",
       "      <td>4.109180e+00</td>\n",
       "      <td>4.668645e+00</td>\n",
       "      <td>7.851932e+00</td>\n",
       "      <td>1.328414e+01</td>\n",
       "      <td>1.054901e+01</td>\n",
       "      <td>1.899821e+01</td>\n",
       "    </tr>\n",
       "  </tbody>\n",
       "</table>\n",
       "</div>"
      ],
      "text/plain": [
       "                 A2            A3            A8           A11           A14  \\\n",
       "count  6.900000e+02  6.900000e+02  6.900000e+02  6.900000e+02  6.900000e+02   \n",
       "mean  -2.581751e-15  2.085288e-16  1.879334e-16  2.067589e-16  4.827057e-17   \n",
       "std    1.000000e+00  1.000000e+00  1.000000e+00  1.000000e+00  1.000000e+00   \n",
       "min   -1.497787e+00 -9.559198e-01 -6.643947e-01 -4.935286e-01 -1.066043e+00   \n",
       "25%   -7.456942e-01 -7.550425e-01 -6.150897e-01 -4.935286e-01 -6.014412e-01   \n",
       "50%   -2.575087e-01 -4.035072e-01 -3.655762e-01 -4.935286e-01 -1.368388e-01   \n",
       "75%    5.221970e-01  4.919034e-01  1.200038e-01  1.233822e-01  5.136044e-01   \n",
       "max    4.109180e+00  4.668645e+00  7.851932e+00  1.328414e+01  1.054901e+01   \n",
       "\n",
       "                A15  \n",
       "count  6.900000e+02  \n",
       "mean  -1.448117e-18  \n",
       "std    1.000000e+00  \n",
       "min   -1.952717e-01  \n",
       "25%   -1.952717e-01  \n",
       "50%   -1.943120e-01  \n",
       "75%   -1.193615e-01  \n",
       "max    1.899821e+01  "
      ]
     },
     "execution_count": 28,
     "metadata": {},
     "output_type": "execute_result"
    }
   ],
   "source": [
    "data_numerical = data[numerical_columns]\n",
    "data_numerical = (data_numerical - data_numerical.mean()) / data_numerical.std()\n",
    "data_numerical.describe()"
   ]
  },
  {
   "cell_type": "markdown",
   "metadata": {},
   "source": [
    "Соединяем все в одну таблицу¶\n",
    "\n",
    "Соединим все столбцы в одну таблицу:"
   ]
  },
  {
   "cell_type": "code",
   "execution_count": 29,
   "metadata": {
    "collapsed": false
   },
   "outputs": [
    {
     "name": "stdout",
     "output_type": "stream",
     "text": [
      "(690, 43)\n",
      "Index([u'A2', u'A3', u'A8', u'A11', u'A14', u'A15', u'A1', u'A9', u'A10',\n",
      "       u'A12', u'class', u'A4_l', u'A4_u', u'A4_y', u'A5_g', u'A5_gg', u'A5_p',\n",
      "       u'A6_aa', u'A6_c', u'A6_cc', u'A6_d', u'A6_e', u'A6_ff', u'A6_i',\n",
      "       u'A6_j', u'A6_k', u'A6_m', u'A6_q', u'A6_r', u'A6_w', u'A6_x', u'A7_bb',\n",
      "       u'A7_dd', u'A7_ff', u'A7_h', u'A7_j', u'A7_n', u'A7_o', u'A7_v',\n",
      "       u'A7_z', u'A13_g', u'A13_p', u'A13_s'],\n",
      "      dtype='object')\n"
     ]
    }
   ],
   "source": [
    "data = pd.concat((data_numerical, data[binary_columns], data_nonbinary), axis=1)\n",
    "data = pd.DataFrame(data, dtype=float)\n",
    "print data.shape\n",
    "print data.columns"
   ]
  },
  {
   "cell_type": "code",
   "execution_count": 30,
   "metadata": {
    "collapsed": false
   },
   "outputs": [
    {
     "name": "stdout",
     "output_type": "stream",
     "text": [
      "Index([u'A2', u'A3', u'A8', u'A11', u'A14', u'A15', u'A1', u'A9', u'A10',\n",
      "       u'A12', u'A4_l', u'A4_u', u'A4_y', u'A5_g', u'A5_gg', u'A5_p', u'A6_aa',\n",
      "       u'A6_c', u'A6_cc', u'A6_d', u'A6_e', u'A6_ff', u'A6_i', u'A6_j',\n",
      "       u'A6_k', u'A6_m', u'A6_q', u'A6_r', u'A6_w', u'A6_x', u'A7_bb',\n",
      "       u'A7_dd', u'A7_ff', u'A7_h', u'A7_j', u'A7_n', u'A7_o', u'A7_v',\n",
      "       u'A7_z', u'A13_g', u'A13_p', u'A13_s'],\n",
      "      dtype='object')\n"
     ]
    }
   ],
   "source": [
    "X = data.drop(('class'), axis=1)  # Выбрасываем столбец 'class'.\n",
    "y = data['class']\n",
    "feature_names = X.columns\n",
    "print feature_names"
   ]
  },
  {
   "cell_type": "code",
   "execution_count": 33,
   "metadata": {
    "collapsed": false
   },
   "outputs": [
    {
     "name": "stdout",
     "output_type": "stream",
     "text": [
      "(690, 42)\n",
      "(690L,)\n"
     ]
    }
   ],
   "source": [
    "\n",
    "print X.shape\n",
    "print y.shape\n",
    "N, d = X.shape"
   ]
  },
  {
   "cell_type": "markdown",
   "metadata": {},
   "source": [
    "Обучающая и тестовая выборки¶\n",
    "\n",
    "Почти все готово, чтобы запустить алгоритмы машинного обучения.\n",
    "\n",
    "Обучаться, или, как говорят, строить модель, мы будем на обучающей выборке, а проверять качество построенной модели – на тестовой. В соревнованиях и конкурсах по анализу данных и машинному обучению участнику доступна только обучающая выборка, а тестовая неизвестна.\n",
    "\n",
    "В рассматриваемой задаче мы сами разобьем имеющиеся у нас данные на обучающую и тестовую выборки (на самом деле, это больше соответствует реальной ситуации, с которой сталкиваются исследователи).\n",
    "\n",
    "Разбиение на тестовую и обучающую выборку должно быть случайным. Обычно используют разбиения в пропорции 50%:50%, 60%:40%, 75%:25% и т.д.\n",
    "\n",
    "Мы воспользуемся функцией train_test_split из модуля sklearn.cross_validation. и разобьем данные на обучающую/тестовую выборки в отношении 70%:30%:"
   ]
  },
  {
   "cell_type": "code",
   "execution_count": 34,
   "metadata": {
    "collapsed": false
   },
   "outputs": [
    {
     "name": "stdout",
     "output_type": "stream",
     "text": [
      "483 207\n"
     ]
    }
   ],
   "source": [
    "from sklearn.cross_validation import train_test_split\n",
    "X_train, X_test, y_train, y_test = train_test_split(X, y, test_size = 0.3, random_state = 11)\n",
    "\n",
    "N_train, _ = X_train.shape \n",
    "N_test,  _ = X_test.shape \n",
    "print N_train, N_test"
   ]
  },
  {
   "cell_type": "markdown",
   "metadata": {},
   "source": [
    "лгоритмы машинного обучения¶\n",
    "\n",
    "В библиотеке scikit-learn реализована масса алгоритмов машинного обучения.\n",
    "\n",
    "Некоторые алгоритмы машинного обучения, реализованные в scikit-learn:¶\n",
    "\n",
    "Метод\tКласс\n",
    "kNN – kk ближайших соседей\tsklearn.neighbors.KNeighborsClassifier\n",
    "LDA – линейный дискриминантный анализ\tsklearn.lda.LDA\n",
    "QDA – квадратичный дискриминантный анализ\tsklearn.qda.QDA\n",
    "Logistic – логистическая регрессия\tsklearn.linear_model.LogisticRegression\n",
    "SVC – машина опорных векторов\tsklearn.svm.SVC\n",
    "Tree – деревья решений\tsklearn.tree.DecisionTreeClassifier\n",
    "RF – случайный лес\tsklearn.ensemble.RandomForestClassifier\n",
    "AdaBoost – адаптивный бустинг\tsklearn.ensemble.AdaBoostClassifier\n",
    "GBT – градиентный бустинг деревьев решений\tsklearn.ensemble.GradientBoostingClassifier"
   ]
  },
  {
   "cell_type": "markdown",
   "metadata": {},
   "source": [
    "Основные методы классов, реализующих алгоритмы машинного обучения¶\n",
    "\n",
    "Все алгоритмы выполнены в виде классов, обладающих по крайней мере следующими методами:\n",
    "\n",
    "Метод класса\tОписание\n",
    "fit(X, y)\tобучение (тренировка) модели на обучающей выборке X, y\n",
    "predict(X)\tпредсказание на данных X\n",
    "set_params(**params)\tустановка параметров алгоритма\n",
    "get_params()\tчтение параметров алгоритма\n",
    "Заметим, что параметры алгоритмов обучения можно задавать как в конструкторе класса, так и с помощью метода set_params(**params).\n",
    "\n",
    "Таблица наличия/отсутствия методов для основных алгоритмов машинного обучения:¶\n",
    "\n",
    "Методы класса\tkNN\tLDA\tQDA\tLogistic\tSVC\tTree\tRF\tAdaBoost\tGBT\n",
    "fit(X, y)\t+\t+\t+\t+\t+\t+\t+\t+\t+\n",
    "predict(X)\t+\t+\t+\t+\t+\t+\t+\t+\t+\n",
    "predict_proba(X)\t+\t+\t+\t+\t \t+\t+\t+\t+\n",
    "predict_log_proba(X)\t \t+\t+\t+\t \t+\t+\t+\t+\n",
    "score(X, y)\t+\t+\t+\t+\t+\t+\t+\t+\t+\n",
    "decision_function(X)\t \t+\t+\t+\t+\t \t \t+\t+\n",
    "transform(X)\t \t+\t \t+\t \t+\t+\t \t+\n",
    "staged_decision_function(X)\t \t \t \t \t \t \t \t+\t+\n",
    "staged_predict(X)\t \t \t \t \t \t \t \t+\t+\n",
    "staged_predict_proba(X)\t \t \t \t \t \t \t \t+\t+\n",
    "staged_score(X, y)\t \t \t \t \t \t \t \t+\t+\n",
    "set_params(**params)\t+\t+\t+\t+\t+\t+\t+\t+\t+\n",
    "get_params()\t+\t+"
   ]
  },
  {
   "cell_type": "markdown",
   "metadata": {},
   "source": [
    "kkNN – метод ближайших соседей¶\n",
    "\n",
    "Начнем с одного из самых простых алгоритмов машинного обучения – метода kk ближайших соседей (kkNN).\n",
    "\n",
    "Для нового объекта алгоритм ищет в обучающей выборке kk наиболее близких объекта и относит новый объект к тому классу, которому принадлежит большинство из них.\n",
    "\n",
    "Количество соседей kk соответствует параметру n_neighbors. По умолчанию, n_neighbors = 5.\n",
    "\n",
    "Вначале обучим модель:"
   ]
  },
  {
   "cell_type": "code",
   "execution_count": 35,
   "metadata": {
    "collapsed": false
   },
   "outputs": [
    {
     "data": {
      "text/plain": [
       "KNeighborsClassifier(algorithm='auto', leaf_size=30, metric='minkowski',\n",
       "           metric_params=None, n_jobs=1, n_neighbors=5, p=2,\n",
       "           weights='uniform')"
      ]
     },
     "execution_count": 35,
     "metadata": {},
     "output_type": "execute_result"
    }
   ],
   "source": [
    "from sklearn.neighbors import KNeighborsClassifier\n",
    "\n",
    "knn = KNeighborsClassifier()\n",
    "knn.fit(X_train, y_train)"
   ]
  },
  {
   "cell_type": "markdown",
   "metadata": {},
   "source": [
    "После того, как модель обучена, мы можем предсказывать значение целевого признака по входным признакам для новых объектов. Делается это с помощью метода predict.\n",
    "\n",
    "Нас интересует качество построенной модели, поэтому будем предсказывать значение выходного признака на тех данных, для которых оно известно: на обучающей и (что более важно) тестовой выборках:"
   ]
  },
  {
   "cell_type": "code",
   "execution_count": 36,
   "metadata": {
    "collapsed": false
   },
   "outputs": [
    {
     "name": "stdout",
     "output_type": "stream",
     "text": [
      "0.146997929607 0.169082125604\n"
     ]
    }
   ],
   "source": [
    "y_train_predict = knn.predict(X_train)\n",
    "y_test_predict = knn.predict(X_test)\n",
    "\n",
    "err_train = np.mean(y_train != y_train_predict)\n",
    "err_test  = np.mean(y_test  != y_test_predict)\n",
    "print err_train, err_test"
   ]
  },
  {
   "cell_type": "markdown",
   "metadata": {},
   "source": [
    "err_train и err_test – это ошибки на обучающей и тестовой выборках. Как мы видим, они составили 14.7% и 16.9%.\n",
    "\n",
    "Для нас более важным является ошибка на тестовой выборке, так как мы должны уметь предсказывать правильное (по возможности) значение на новых объектах, которые при обучении были недоступны.\n",
    "\n",
    "Попробуем уменьшить тестовую ошибку, варьируя параметры метода.\n",
    "\n",
    "Основной параметр метода kk ближайших соседей – это kk.\n",
    "\n",
    "Поиск оптимальных значений параметров можно осуществить с помощью класса GridSearchCV – поиск наилучшего набора параметров, доставляющих минимум ошибке перекрестного контроля (cross-validation). По умолчанию рассматривается 3-кратный перекрестный контроль.\n",
    "\n",
    "Например, найдем наилучшее значение kk среди значений [1, 3, 5, 7, 10, 15]:"
   ]
  },
  {
   "cell_type": "code",
   "execution_count": 37,
   "metadata": {
    "collapsed": false
   },
   "outputs": [
    {
     "name": "stdout",
     "output_type": "stream",
     "text": [
      "0.207039337474 7\n"
     ]
    }
   ],
   "source": [
    "from sklearn.grid_search import GridSearchCV\n",
    "n_neighbors_array = [1, 3, 5, 7, 10, 15]\n",
    "knn = KNeighborsClassifier()\n",
    "grid = GridSearchCV(knn, param_grid={'n_neighbors': n_neighbors_array})\n",
    "grid.fit(X_train, y_train)\n",
    "\n",
    "best_cv_err = 1 - grid.best_score_\n",
    "best_n_neighbors = grid.best_estimator_.n_neighbors\n",
    "print best_cv_err, best_n_neighbors"
   ]
  },
  {
   "cell_type": "markdown",
   "metadata": {},
   "source": [
    "В качестве оптимального метод выбрал значение kk равное 7. Ошибка перекрестного контроля составила 20.7%, что даже больше ошибки на тестовой выборке для 5 ближайших соседей. Это может быть обусленно тем, что для построения моделей в рамках схемы перекрестного контроля используются не все данные.\n",
    "\n",
    "Проверим, чему равны ошибки на обучающей и тестовой выборках при этом значении параметра"
   ]
  },
  {
   "cell_type": "code",
   "execution_count": 38,
   "metadata": {
    "collapsed": false
   },
   "outputs": [
    {
     "name": "stdout",
     "output_type": "stream",
     "text": [
      "0.151138716356 0.164251207729\n"
     ]
    }
   ],
   "source": [
    "knn = KNeighborsClassifier(n_neighbors=best_n_neighbors)\n",
    "knn.fit(X_train, y_train)\n",
    "\n",
    "err_train = np.mean(y_train != knn.predict(X_train))\n",
    "err_test  = np.mean(y_test  != knn.predict(X_test))\n",
    "print err_train, err_test"
   ]
  },
  {
   "cell_type": "markdown",
   "metadata": {},
   "source": [
    "SVC – машина опорных векторов¶\n",
    "\n",
    "Следующий метод, который мы попробуем – машина опорных векторов (SVM – support vector machine или SVC – support vector classifier) – сразу приводит к более оптимистичным результатам.\n",
    "\n",
    "Уже со значением параметров по умолчанию (в частности, ядро – радиальное rbf) получаем более низкую ошибку на обучающей выборке:"
   ]
  },
  {
   "cell_type": "code",
   "execution_count": 39,
   "metadata": {
    "collapsed": false
   },
   "outputs": [
    {
     "name": "stdout",
     "output_type": "stream",
     "text": [
      "0.144927536232 0.130434782609\n"
     ]
    }
   ],
   "source": [
    "from sklearn.svm import SVC\n",
    "svc = SVC()\n",
    "svc.fit(X_train, y_train)\n",
    "\n",
    "err_train = np.mean(y_train != svc.predict(X_train))\n",
    "err_test  = np.mean(y_test  != svc.predict(X_test))\n",
    "print err_train, err_test"
   ]
  },
  {
   "cell_type": "markdown",
   "metadata": {},
   "source": [
    "Итак, на тестовой выборке получили ошибку в 13%.\n",
    "\n",
    "С помощью подбора параметров попробуем ее еще уменьшить.\n",
    "\n",
    "Радиальное ядро¶\n",
    "Вначале попробуем найти лучшие значения параметров для радиального ядра"
   ]
  },
  {
   "cell_type": "code",
   "execution_count": 40,
   "metadata": {
    "collapsed": false
   },
   "outputs": [
    {
     "name": "stdout",
     "output_type": "stream",
     "text": [
      "CV error    =  0.138716356108\n",
      "best C      =  1.0\n",
      "best gamma  =  0.01\n"
     ]
    }
   ],
   "source": [
    "from sklearn.grid_search import GridSearchCV\n",
    "C_array = np.logspace(-3, 3, num=7)\n",
    "gamma_array = np.logspace(-5, 2, num=8)\n",
    "svc = SVC(kernel='rbf')\n",
    "grid = GridSearchCV(svc, param_grid={'C': C_array, 'gamma': gamma_array})\n",
    "grid.fit(X_train, y_train)\n",
    "print 'CV error    = ', 1 - grid.best_score_\n",
    "print 'best C      = ', grid.best_estimator_.C\n",
    "print 'best gamma  = ', grid.best_estimator_.gamma"
   ]
  },
  {
   "cell_type": "code",
   "execution_count": 41,
   "metadata": {
    "collapsed": false
   },
   "outputs": [
    {
     "name": "stdout",
     "output_type": "stream",
     "text": [
      "0.134575569358 0.111111111111\n"
     ]
    }
   ],
   "source": [
    "svc = SVC(kernel='rbf', C=grid.best_estimator_.C, gamma=grid.best_estimator_.gamma)\n",
    "svc.fit(X_train, y_train)\n",
    "\n",
    "err_train = np.mean(y_train != svc.predict(X_train))\n",
    "err_test  = np.mean(y_test  != svc.predict(X_test))\n",
    "print err_train, err_test"
   ]
  },
  {
   "cell_type": "markdown",
   "metadata": {},
   "source": [
    "Линейное ядро¶\n",
    "Теперь рассмотрим линейное ядро."
   ]
  },
  {
   "cell_type": "code",
   "execution_count": 42,
   "metadata": {
    "collapsed": false
   },
   "outputs": [
    {
     "name": "stdout",
     "output_type": "stream",
     "text": [
      "CV error    =  0.151138716356\n",
      "best C      =  0.1\n"
     ]
    }
   ],
   "source": [
    "from sklearn.grid_search import GridSearchCV\n",
    "C_array = np.logspace(-3, 3, num=7)\n",
    "svc = SVC(kernel='linear')\n",
    "grid = GridSearchCV(svc, param_grid={'C': C_array})\n",
    "grid.fit(X_train, y_train)\n",
    "print 'CV error    = ', 1 - grid.best_score_\n",
    "print 'best C      = ', grid.best_estimator_.C"
   ]
  },
  {
   "cell_type": "code",
   "execution_count": 43,
   "metadata": {
    "collapsed": false
   },
   "outputs": [
    {
     "name": "stdout",
     "output_type": "stream",
     "text": [
      "0.151138716356 0.125603864734\n"
     ]
    }
   ],
   "source": [
    "svc = SVC(kernel='linear', C=grid.best_estimator_.C)\n",
    "svc.fit(X_train, y_train)\n",
    "\n",
    "err_train = np.mean(y_train != svc.predict(X_train))\n",
    "err_test  = np.mean(y_test  != svc.predict(X_test))\n",
    "print err_train, err_test"
   ]
  },
  {
   "cell_type": "markdown",
   "metadata": {},
   "source": [
    "Полиномиальное ядро¶\n",
    "Попробуем также полиномиальное ядро:"
   ]
  },
  {
   "cell_type": "code",
   "execution_count": 44,
   "metadata": {
    "collapsed": false
   },
   "outputs": [
    {
     "name": "stdout",
     "output_type": "stream",
     "text": [
      "CV error    =  0.138716356108\n",
      "best C      =  0.0001\n",
      "best gamma  =  10.0\n",
      "best degree =  2\n"
     ]
    }
   ],
   "source": [
    "from sklearn.grid_search import GridSearchCV\n",
    "C_array = np.logspace(-5, 2, num=8)\n",
    "gamma_array = np.logspace(-5, 2, num=8)\n",
    "degree_array = [2, 3, 4]\n",
    "svc = SVC(kernel='poly')\n",
    "grid = GridSearchCV(svc, param_grid={'C': C_array, 'gamma': gamma_array, 'degree': degree_array})\n",
    "grid.fit(X_train, y_train)\n",
    "print 'CV error    = ', 1 - grid.best_score_\n",
    "print 'best C      = ', grid.best_estimator_.C\n",
    "print 'best gamma  = ', grid.best_estimator_.gamma\n",
    "print 'best degree = ', grid.best_estimator_.degree"
   ]
  },
  {
   "cell_type": "code",
   "execution_count": 45,
   "metadata": {
    "collapsed": false
   },
   "outputs": [
    {
     "name": "stdout",
     "output_type": "stream",
     "text": [
      "0.0973084886128 0.12077294686\n"
     ]
    }
   ],
   "source": [
    "svc = SVC(kernel='poly', C=grid.best_estimator_.C, \n",
    "          gamma=grid.best_estimator_.gamma, degree=grid.best_estimator_.degree)\n",
    "svc.fit(X_train, y_train)\n",
    "\n",
    "err_train = np.mean(y_train != svc.predict(X_train))\n",
    "err_test  = np.mean(y_test  != svc.predict(X_test))\n",
    "print err_train, err_test"
   ]
  },
  {
   "cell_type": "markdown",
   "metadata": {},
   "source": [
    "andom Forest – случайный лес¶\n",
    "\n",
    "Воспользуемся одним из самых популярных алгоритмов машинного обучения – случайный лес – Random Forest.\n",
    "\n",
    "Алгоритм строит ансамбль случайных деревьев, каждое из которых обучается на выборке, полученной из исходной с помощью процедуры изъятия с возвращением."
   ]
  },
  {
   "cell_type": "code",
   "execution_count": 46,
   "metadata": {
    "collapsed": false
   },
   "outputs": [
    {
     "name": "stdout",
     "output_type": "stream",
     "text": [
      "0.0 0.101449275362\n"
     ]
    }
   ],
   "source": [
    "from sklearn import ensemble\n",
    "rf = ensemble.RandomForestClassifier(n_estimators=100, random_state=11)\n",
    "rf.fit(X_train, y_train)\n",
    "\n",
    "err_train = np.mean(y_train != rf.predict(X_train))\n",
    "err_test  = np.mean(y_test  != rf.predict(X_test))\n",
    "print err_train, err_test"
   ]
  },
  {
   "cell_type": "markdown",
   "metadata": {},
   "source": [
    "Мы предоставляем читателю возможность самому подобрать оптимальные значения параметров данного алгоритма (например, увеличить количество n_estimators используемых деревьев решений) и попробовать понизить эту ошибку."
   ]
  },
  {
   "cell_type": "markdown",
   "metadata": {},
   "source": [
    "Отбор признаков (Feature Selection) с помощью алгоритма случайного леса¶\n",
    "Одной из важных процедур предобработки данных в алгоритмах их анализа является отбор значимых признаков. Его цель заключается в том, чтобы отобрать наиболее существенные признаки для решения рассматриваемой задачи классификации.\n",
    "\n",
    "Отбор признаков необходим для следующих целей:\n",
    "\n",
    "Для лучшего понимания задачи. Человеку легче разобраться с небольшим количеством признаков, чем с огромным их количеством.\n",
    "Для ускорения алгоритмов.\n",
    "Для улучшения качества предсказания. Устранение шумовых признаков может уменьшить ошибку алгоритма на тестовой выборке, т.е. улучшить качество предсказания.\n",
    "Отбор значимых признаков осуществляется как «вручную» — на основе анализа содержательной постановки задачи, так и «автоматически» — с помощью универсальных алгоритмов.\n",
    "\n",
    "Отбор признаков «вручную» (как и «ручной» синтез новых признаков) — важный этап в анализе данных. К сожалению, нам не известны содержательные значения используемых в рассматриваемой задаче признаков, поэтому ограничимся только их автоматическим отбором. Для этого существует много различных алгоритмов. Рассмотрим только один из них – с помощью случайного леса.\n",
    "\n",
    "Все, что нужно сделать, – это после вызова метода predict для случайного леса прочитать поле feature_importances_. Для каждого признака это поле содержит число, выражающее «важность» этого признака. Чем больше число, тем значимее признак. Сумма всех чисел равна 1.\n",
    "\n",
    "Упорядочим значимости и выведем их значения:"
   ]
  },
  {
   "cell_type": "code",
   "execution_count": 47,
   "metadata": {
    "collapsed": false
   },
   "outputs": [
    {
     "name": "stdout",
     "output_type": "stream",
     "text": [
      "Feature importances:\n",
      " 1. feature 'A9   ' (0.2269)\n",
      " 2. feature 'A8   ' (0.1020)\n",
      " 3. feature 'A11  ' (0.0816)\n",
      " 4. feature 'A15  ' (0.0813)\n",
      " 5. feature 'A3   ' (0.0791)\n",
      " 6. feature 'A14  ' (0.0730)\n",
      " 7. feature 'A2   ' (0.0672)\n",
      " 8. feature 'A10  ' (0.0649)\n",
      " 9. feature 'A6_x ' (0.0155)\n",
      "10. feature 'A7_h ' (0.0141)\n",
      "11. feature 'A12  ' (0.0139)\n",
      "12. feature 'A1   ' (0.0133)\n",
      "13. feature 'A7_v ' (0.0122)\n",
      "14. feature 'A6_q ' (0.0116)\n",
      "15. feature 'A6_k ' (0.0110)\n",
      "16. feature 'A5_p ' (0.0104)\n",
      "17. feature 'A13_g' (0.0100)\n",
      "18. feature 'A6_w ' (0.0099)\n",
      "19. feature 'A6_ff' (0.0093)\n",
      "20. feature 'A5_g ' (0.0087)\n",
      "21. feature 'A6_c ' (0.0079)\n",
      "22. feature 'A4_u ' (0.0075)\n",
      "23. feature 'A4_y ' (0.0071)\n",
      "24. feature 'A7_bb' (0.0071)\n",
      "25. feature 'A13_s' (0.0070)\n",
      "26. feature 'A6_cc' (0.0067)\n",
      "27. feature 'A6_i ' (0.0059)\n",
      "28. feature 'A7_ff' (0.0058)\n",
      "29. feature 'A6_aa' (0.0047)\n",
      "30. feature 'A6_m ' (0.0037)\n",
      "31. feature 'A6_e ' (0.0035)\n",
      "32. feature 'A13_p' (0.0035)\n",
      "33. feature 'A6_d ' (0.0031)\n",
      "34. feature 'A7_j ' (0.0022)\n",
      "35. feature 'A7_n ' (0.0021)\n",
      "36. feature 'A4_l ' (0.0016)\n",
      "37. feature 'A7_dd' (0.0012)\n",
      "38. feature 'A7_z ' (0.0012)\n",
      "39. feature 'A5_gg' (0.0011)\n",
      "40. feature 'A6_j ' (0.0007)\n",
      "41. feature 'A6_r ' (0.0004)\n",
      "42. feature 'A7_o ' (0.0000)\n"
     ]
    }
   ],
   "source": [
    "importances = rf.feature_importances_\n",
    "indices = np.argsort(importances)[::-1]\n",
    "\n",
    "print(\"Feature importances:\")\n",
    "for f, idx in enumerate(indices):\n",
    "    print(\"{:2d}. feature '{:5s}' ({:.4f})\".format(f + 1, feature_names[idx], importances[idx]))"
   ]
  },
  {
   "cell_type": "markdown",
   "metadata": {},
   "source": [
    "Построим столбцовую диаграмму, графически представляющую значимость первых 20 признаков:"
   ]
  },
  {
   "cell_type": "code",
   "execution_count": 48,
   "metadata": {
    "collapsed": false
   },
   "outputs": [
    {
     "data": {
      "image/png": "[encoded data removed]",
      "text/plain": [
       "<matplotlib.figure.Figure at 0xf528358>"
      ]
     },
     "metadata": {},
     "output_type": "display_data"
    }
   ],
   "source": [
    "\n",
    "\n",
    "d_first = 20\n",
    "plt.figure(figsize=(8, 8))\n",
    "plt.title(\"Feature importances\")\n",
    "plt.bar(range(d_first), importances[indices[:d_first]], align='center')\n",
    "plt.xticks(range(d_first), np.array(feature_names)[indices[:d_first]], rotation=90)\n",
    "plt.xlim([-1, d_first]);"
   ]
  },
  {
   "cell_type": "code",
   "execution_count": 49,
   "metadata": {
    "collapsed": false
   },
   "outputs": [
    {
     "name": "stdout",
     "output_type": "stream",
     "text": [
      "Index([u'A9', u'A8', u'A11', u'A15', u'A3', u'A14', u'A2', u'A10'], dtype='object')\n"
     ]
    }
   ],
   "source": [
    "best_features = indices[:8]\n",
    "best_features_names = feature_names[best_features]\n",
    "print(best_features_names)"
   ]
  },
  {
   "cell_type": "markdown",
   "metadata": {},
   "source": [
    "GBT – градиентный бустинг деревьев решений¶\n",
    "\n",
    "GBT – еще один метод, строящий ансамбль деревьев решений. На каждой итерации строится новый классификатор, аппроксимирующий значение градиента функции потерь"
   ]
  },
  {
   "cell_type": "code",
   "execution_count": 50,
   "metadata": {
    "collapsed": false
   },
   "outputs": [
    {
     "name": "stdout",
     "output_type": "stream",
     "text": [
      "0.0248447204969 0.101449275362\n"
     ]
    }
   ],
   "source": [
    "from sklearn import ensemble\n",
    "gbt = ensemble.GradientBoostingClassifier(n_estimators=100, random_state=11)\n",
    "gbt.fit(X_train, y_train)\n",
    "\n",
    "err_train = np.mean(y_train != gbt.predict(X_train))\n",
    "err_test = np.mean(y_test != gbt.predict(X_test))\n",
    "print err_train, err_test"
   ]
  },
  {
   "cell_type": "markdown",
   "metadata": {},
   "source": [
    "Ошибка на тестовой выборке (10.1%) чуть выше, чем для случайного леса.\n",
    "\n",
    "Заметим, что при использовании найденных выше значимых признаков ошибка практически не меняется:"
   ]
  },
  {
   "cell_type": "code",
   "execution_count": 51,
   "metadata": {
    "collapsed": false
   },
   "outputs": [
    {
     "name": "stdout",
     "output_type": "stream",
     "text": [
      "0.0351966873706 0.106280193237\n"
     ]
    }
   ],
   "source": [
    "gbt = ensemble.GradientBoostingClassifier(n_estimators=100, random_state=11)\n",
    "gbt.fit(X_train[best_features_names], y_train)\n",
    "\n",
    "err_train = np.mean(y_train != gbt.predict(X_train[best_features_names]))\n",
    "err_test = np.mean(y_test != gbt.predict(X_test[best_features_names]))\n",
    "print err_train, err_test"
   ]
  },
  {
   "cell_type": "markdown",
   "metadata": {},
   "source": [
    "Итоги¶\n",
    "\n",
    "В нашем небольшом эксперименте победил алгоритм случайного леса – Random Forest, с тестовой ошибкой 9.7%. Также неплохие результаты удалось получить с помощью градиентного бустинга деревьев решений – GBT. Причем кажется, что из GBT выжато не все, на что он способен!\n",
    "\n",
    "Можно продолжать эксперименты с этими и другими алгоритмами.\n",
    "\n",
    "Как уже отмечалось ранее, также важен отбор и синтез признаков. Для этого также можно попробовать разные алгоритмы.\n",
    "\n",
    "Дерзайте!\n",
    "\n"
   ]
  }
 ],
 "metadata": {
  "kernelspec": {
   "display_name": "Python 2",
   "language": "python",
   "name": "python2"
  },
  "language_info": {
   "codemirror_mode": {
    "name": "ipython",
    "version": 2
   },
   "file_extension": ".py",
   "mimetype": "text/x-python",
   "name": "python",
   "nbconvert_exporter": "python",
   "pygments_lexer": "ipython2",
   "version": "2.7.12"
  }
 },
 "nbformat": 4,
 "nbformat_minor": 0
}
