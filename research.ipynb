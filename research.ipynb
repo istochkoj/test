{
 "cells": [
  {
   "cell_type": "code",
   "execution_count": null,
   "metadata": {
    "collapsed": true
   },
   "outputs": [],
   "source": [
    "import pandas as pd\n",
    "import matplotlib.pyplot as plt\n",
    "import xgboost as xgb\n",
    "%matplotlib inline\n",
    "\n",
    "path_to_data = '/home/job/competitions/ML_Boot_Camp_game/data/'\n",
    "\n",
    "train = pd.read_csv(path_to_data+'x_train.csv', sep = ';')\n",
    "test = pd.read_csv(path_to_data+'x_test.csv', sep = ';')\n",
    "y = pd.read_csv(path_to_data+'y_train.csv', header = None)[0]"
   ]
  },
  {
   "cell_type": "code",
   "execution_count": null,
   "metadata": {
    "collapsed": true
   },
   "outputs": [],
   "source": [
    "train = train.drop('numberOfAttemptedLevels', axis = 1)\n",
    "test = test.drop('numberOfAttemptedLevels', axis = 1)\n",
    "\n",
    "train['NumOfAttempts_div'] = train['attemptsOnTheHighestLevel']/train['totalNumOfAttempts']\n",
    "test['NumOfAttempts_div'] = test['attemptsOnTheHighestLevel']/test['totalNumOfAttempts']\n",
    "\n",
    "# train['NumOfAttempts_total_score'] = train['totalScore']/train['maxPlayerLevel']\n",
    "# test['NumOfAttempts_total_score'] = test['totalScore']/test['maxPlayerLevel']\n",
    "\n",
    "train['NumOfAttempts_total_score'] = train['totalScore']/train['numberOfAttemptedLevels']\n",
    "test['NumOfAttempts_total_score'] = test['totalScore']/test['maxPlayerLevel']"
   ]
  },
  {
   "cell_type": "code",
   "execution_count": null,
   "metadata": {
    "collapsed": true
   },
   "outputs": [],
   "source": [
    "cols_to_del = ['maxPlayerLevel', 'totalNumOfAttempts',\n",
    "               'numberOfBoostersUsed', 'fractionOfUsefullBoosters', 'totalScore',\n",
    "               'totalBonusScore', 'totalStarsCount']\n",
    "\n",
    "for col in cols_to_del:\n",
    "    train[col+'_daily'] = train[col]/train['numberOfDaysActuallyPlayed']"
   ]
  },
  {
   "cell_type": "code",
   "execution_count": null,
   "metadata": {
    "collapsed": true
   },
   "outputs": [],
   "source": [
    "params = {\n",
    "    'eta':0.01,\n",
    "    'booster': 'gbtree',\n",
    "    'nthread' : 6,\n",
    "    'objective' : 'binary:logistic',\n",
    "    'eval_metric' : 'logloss'\n",
    "}\n",
    "\n",
    "X = xgb.DMatrix(train, label = y)\n",
    "\n",
    "cv_res = xgb.cv(params, X, num_boost_round=10000, nfold=5, stratified=True, early_stopping_rounds=50)"
   ]
  },
  {
   "cell_type": "code",
   "execution_count": null,
   "metadata": {
    "collapsed": true
   },
   "outputs": [],
   "source": [
    "cv_res[cv_res['test-logloss-mean'] == cv_res['test-logloss-mean'].min()]"
   ]
  },
  {
   "cell_type": "code",
   "execution_count": null,
   "metadata": {
    "collapsed": true
   },
   "outputs": [],
   "source": [
    "gbm = xgb.train(params, X, num_boost_round=1000)"
   ]
  },
  {
   "cell_type": "code",
   "execution_count": null,
   "metadata": {
    "collapsed": true
   },
   "outputs": [],
   "source": [
    "xgb.plot_importance(gbm)"
   ]
  },
  {
   "cell_type": "code",
   "execution_count": null,
   "metadata": {
    "collapsed": true
   },
   "outputs": [],
   "source": []
  },
  {
   "cell_type": "code",
   "execution_count": null,
   "metadata": {
    "collapsed": true
   },
   "outputs": [],
   "source": []
  },
  {
   "cell_type": "code",
   "execution_count": null,
   "metadata": {
    "collapsed": true
   },
   "outputs": [],
   "source": []
  }
 ],
 "metadata": {
  "kernelspec": {
   "display_name": "Python 2",
   "language": "python",
   "name": "python2"
  },
  "language_info": {
   "codemirror_mode": {
    "name": "ipython",
    "version": 2
   },
   "file_extension": ".py",
   "mimetype": "text/x-python",
   "name": "python",
   "nbconvert_exporter": "python",
   "pygments_lexer": "ipython2",
   "version": "2.7.12"
  }
 },
 "nbformat": 4,
 "nbformat_minor": 0
}
